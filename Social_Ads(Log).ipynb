{
  "nbformat": 4,
  "nbformat_minor": 0,
  "metadata": {
    "colab": {
      "name": "Social_Ads(Log).ipynb",
      "provenance": []
    },
    "kernelspec": {
      "name": "python3",
      "display_name": "Python 3"
    },
    "language_info": {
      "name": "python"
    }
  },
  "cells": [
    {
      "cell_type": "markdown",
      "metadata": {
        "id": "Ihl2EdtZhS0b"
      },
      "source": [
        "**IMPORTING LIBRARIES**"
      ]
    },
    {
      "cell_type": "code",
      "metadata": {
        "id": "-i_2tLf9b3o1"
      },
      "source": [
        "import numpy as np\n",
        "import pandas as pd\n",
        "import matplotlib.pyplot as plt\n"
      ],
      "execution_count": null,
      "outputs": []
    },
    {
      "cell_type": "markdown",
      "metadata": {
        "id": "tbivFATUhbuT"
      },
      "source": [
        "**IMPORTING DATASET**"
      ]
    },
    {
      "cell_type": "code",
      "metadata": {
        "id": "nSTxTvPYdFsp"
      },
      "source": [
        "ds=pd.read_csv('/content/drive/MyDrive/Social_Network_Ads.csv')\n",
        "ds.head()"
      ],
      "execution_count": null,
      "outputs": []
    },
    {
      "cell_type": "markdown",
      "metadata": {
        "id": "1WfWaCsRhgRG"
      },
      "source": [
        "PREPARING DATASET"
      ]
    },
    {
      "cell_type": "code",
      "metadata": {
        "id": "buSHaDmHdL0a"
      },
      "source": [
        "x=ds.iloc[:,:-1].values\n",
        "y=ds.iloc[:,-1].values\n",
        "\n"
      ],
      "execution_count": null,
      "outputs": []
    },
    {
      "cell_type": "markdown",
      "metadata": {
        "id": "17O8vuXrht1W"
      },
      "source": [
        "SPLITTING THE DATASET"
      ]
    },
    {
      "cell_type": "code",
      "metadata": {
        "id": "TDSp2YuPfZv0"
      },
      "source": [
        "from sklearn.model_selection import train_test_split\n",
        "x_train,x_test,y_train,y_test=train_test_split(x,y,test_size=0.25,random_state=0)"
      ],
      "execution_count": null,
      "outputs": []
    },
    {
      "cell_type": "markdown",
      "metadata": {
        "id": "HkLdRzfJhy_s"
      },
      "source": [
        "FEATURE SCALING"
      ]
    },
    {
      "cell_type": "code",
      "metadata": {
        "id": "O_1HJG0tdq2F"
      },
      "source": [
        "from sklearn.preprocessing import StandardScaler\n",
        "sc=StandardScaler()\n",
        "x_train=sc.fit_transform(x_train)\n",
        "x_test=sc.fit_transform(x_test)\n"
      ],
      "execution_count": null,
      "outputs": []
    },
    {
      "cell_type": "markdown",
      "metadata": {
        "id": "pjFzJXsfh6A5"
      },
      "source": [
        "FITTING THE MODEL"
      ]
    },
    {
      "cell_type": "code",
      "metadata": {
        "id": "eCqj6qM9f48i"
      },
      "source": [
        "from sklearn.linear_model import LogisticRegression\n",
        "lg=LogisticRegression()\n",
        "\n",
        "lg.fit(x_train,y_train)"
      ],
      "execution_count": null,
      "outputs": []
    },
    {
      "cell_type": "markdown",
      "metadata": {
        "id": "ckcDK81CiBzD"
      },
      "source": [
        "PREDICTING THE RESULT"
      ]
    },
    {
      "cell_type": "code",
      "metadata": {
        "id": "d2xYCBG2gPx8"
      },
      "source": [
        "y_pred = lg.predict(x_test)\n"
      ],
      "execution_count": null,
      "outputs": []
    },
    {
      "cell_type": "markdown",
      "metadata": {
        "id": "gEeLa2wPiT6S"
      },
      "source": [
        "MEASURING ACCURACY"
      ]
    },
    {
      "cell_type": "code",
      "metadata": {
        "colab": {
          "base_uri": "https://localhost:8080/"
        },
        "id": "V4NstzXRglN6",
        "outputId": "f952d75f-279e-4072-f789-8050695eced9"
      },
      "source": [
        "from sklearn.metrics import confusion_matrix, accuracy_score\n",
        "cm = confusion_matrix(y_test, y_pred)\n",
        "print(cm)\n",
        "accuracy_score(y_test, y_pred)"
      ],
      "execution_count": null,
      "outputs": [
        {
          "output_type": "stream",
          "text": [
            "[[63  5]\n",
            " [ 8 24]]\n"
          ],
          "name": "stdout"
        },
        {
          "output_type": "execute_result",
          "data": {
            "text/plain": [
              "0.87"
            ]
          },
          "metadata": {},
          "execution_count": 14
        }
      ]
    }
  ]
}